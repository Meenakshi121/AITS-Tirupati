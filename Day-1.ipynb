{
 "cells": [
  {
   "cell_type": "markdown",
   "id": "0ffe6608",
   "metadata": {},
   "source": [
    "##### ipynb -> interactive python notebook\n",
    "\n",
    "\n",
    "### Shortcuts \n",
    "\n",
    "* esc+m -> to convert cell into markdown cell\n",
    "* esc+y -> to convert cell into coding cell\n",
    "* esc+a -> for new cell above\n",
    "* esc+b -> for new cell below\n",
    "* esc+h -> shortcuts\n",
    "* shift + Enter -> to run the markdown cells"
   ]
  },
  {
   "cell_type": "markdown",
   "id": "a9a34646",
   "metadata": {},
   "source": [
    "# largest heading\n",
    "## The second largest heading\n",
    "### third largest heading\n",
    "#### h4\n",
    "##### h5\n",
    "###### the smallest heading"
   ]
  },
  {
   "cell_type": "markdown",
   "id": "0db2ca60",
   "metadata": {},
   "source": [
    "### Styling text\n",
    "\n",
    "* **This is bold text**  -> ctrl+b \n",
    "* *this is italic*\n",
    "* ***This is bold and italic***\n",
    "* ~~This is strike through~~"
   ]
  },
  {
   "cell_type": "markdown",
   "id": "99ef9b79",
   "metadata": {},
   "source": [
    "### unordered list \n",
    "\n",
    "* Vijayawada\n",
    "* guntur\n",
    "* Tirupathi\n",
    "\n",
    "\n",
    "### Ordered list\n",
    "\n",
    "* Department\n",
    "1. ECE\n",
    "2. CSE\n",
    "3. IT\n",
    "4. EEE\n",
    "5. MECH\n",
    "6. CIVIL"
   ]
  },
  {
   "cell_type": "markdown",
   "id": "3c58b686",
   "metadata": {},
   "source": [
    "### Inserting a link\n",
    "\n",
    "* [Google.com](https://www.google.com)\n",
    "* [facebook](https://www.facebook.com)\n",
    "* [gmail](https://www.gmail.com)"
   ]
  },
  {
   "cell_type": "markdown",
   "id": "534d0549",
   "metadata": {},
   "source": [
    "### creating link to an image\n",
    "\n",
    "* [python image](python.jpg)"
   ]
  },
  {
   "cell_type": "markdown",
   "id": "702de25c",
   "metadata": {},
   "source": [
    "### Adding images to markdown\n",
    "\n",
    "<img src=\"python.jpg\" style=\"height:100px;width:100px;\">"
   ]
  },
  {
   "cell_type": "code",
   "execution_count": null,
   "id": "2ede46aa",
   "metadata": {},
   "outputs": [],
   "source": []
  }
 ],
 "metadata": {
  "kernelspec": {
   "display_name": "Python 3 (ipykernel)",
   "language": "python",
   "name": "python3"
  },
  "language_info": {
   "codemirror_mode": {
    "name": "ipython",
    "version": 3
   },
   "file_extension": ".py",
   "mimetype": "text/x-python",
   "name": "python",
   "nbconvert_exporter": "python",
   "pygments_lexer": "ipython3",
   "version": "3.9.13"
  }
 },
 "nbformat": 4,
 "nbformat_minor": 5
}
