{
 "cells": [
  {
   "cell_type": "markdown",
   "id": "f5b2c07e",
   "metadata": {},
   "source": [
    "### List\n",
    "\n",
    "* List is a collection of elements\n",
    "* list is created by using [] \n",
    "* list elements are seperated by commas ,\n",
    "* list is mutable i.e changeable"
   ]
  },
  {
   "cell_type": "code",
   "execution_count": 16,
   "id": "df68e559",
   "metadata": {},
   "outputs": [
    {
     "name": "stdout",
     "output_type": "stream",
     "text": [
      "[10, 90.8, 67, 'hello']\n",
      "<class 'list'>\n"
     ]
    }
   ],
   "source": [
    "# creating list\n",
    "\n",
    "l=[10,90.8,67,\"hello\"]\n",
    "print(l)\n",
    "print(type(l))"
   ]
  },
  {
   "cell_type": "code",
   "execution_count": 17,
   "id": "e7ad84a1",
   "metadata": {},
   "outputs": [
    {
     "name": "stdout",
     "output_type": "stream",
     "text": [
      "[10, 20, 45, 25, 30, 40, 50]\n",
      "<class 'list'>\n"
     ]
    }
   ],
   "source": [
    "l=[10,20,45,25,30,40,50]\n",
    "print(l)\n",
    "print(type(l))"
   ]
  },
  {
   "cell_type": "code",
   "execution_count": 18,
   "id": "59a842a4",
   "metadata": {},
   "outputs": [
    {
     "name": "stdout",
     "output_type": "stream",
     "text": [
      "50\n",
      "10\n",
      "7\n",
      "[10, 20, 25, 30, 40, 45, 50]\n",
      "[50, 45, 40, 30, 25, 20, 10]\n"
     ]
    }
   ],
   "source": [
    "print(max(l))\n",
    "print(min(l))\n",
    "print(len(l))\n",
    "print(sorted(l))   # ascending\n",
    "print(sorted(l,reverse=True))"
   ]
  },
  {
   "cell_type": "code",
   "execution_count": 19,
   "id": "1fa5f7d3",
   "metadata": {},
   "outputs": [
    {
     "data": {
      "text/plain": [
       "[10, 20, 45, 25, 30, 40, 50]"
      ]
     },
     "execution_count": 19,
     "metadata": {},
     "output_type": "execute_result"
    }
   ],
   "source": [
    "l"
   ]
  },
  {
   "cell_type": "code",
   "execution_count": 22,
   "id": "0ebf6ebe",
   "metadata": {},
   "outputs": [
    {
     "data": {
      "text/plain": [
       "'l=[10, 20, 45, 25, 30, 40, 50]\\n   0    1   2  3    4   5   6   # forward index\\n  -7   -6  -5  -4  -3  -2  -1  # backward index '"
      ]
     },
     "execution_count": 22,
     "metadata": {},
     "output_type": "execute_result"
    }
   ],
   "source": [
    "\"\"\"l=[10, 20, 45, 25, 30, 40, 50]\n",
    "      0    1   2  3    4   5   6   # forward index\n",
    "     -7   -6  -5  -4  -3  -2  -1  # backward index \"\"\"\n",
    "    "
   ]
  },
  {
   "cell_type": "code",
   "execution_count": 25,
   "id": "cc1d6394",
   "metadata": {},
   "outputs": [
    {
     "name": "stdout",
     "output_type": "stream",
     "text": [
      "45\n",
      "45\n"
     ]
    }
   ],
   "source": [
    "l=[10, 20, 45, 25, 30, 40, 50]\n",
    "print(l[2])\n",
    "print(l[-5])"
   ]
  },
  {
   "cell_type": "code",
   "execution_count": 26,
   "id": "11f83b0c",
   "metadata": {},
   "outputs": [
    {
     "name": "stdout",
     "output_type": "stream",
     "text": [
      "30\n"
     ]
    }
   ],
   "source": [
    "# 30\n",
    "print(l[4])"
   ]
  },
  {
   "cell_type": "code",
   "execution_count": 30,
   "id": "85c642e4",
   "metadata": {},
   "outputs": [
    {
     "name": "stdout",
     "output_type": "stream",
     "text": [
      "[20, 45, 25]\n"
     ]
    }
   ],
   "source": [
    "# slicing [start:end:step]\n",
    "\n",
    "l=[10, 20, 45, 25, 30, 40, 50]\n",
    "#  0   1   2   3   4   5   6\n",
    "# 20,45,25\n",
    "\n",
    "print(l[1:4:1])"
   ]
  },
  {
   "cell_type": "code",
   "execution_count": 28,
   "id": "7aa017ca",
   "metadata": {},
   "outputs": [
    {
     "name": "stdout",
     "output_type": "stream",
     "text": [
      "[10, 45, 30, 50]\n"
     ]
    }
   ],
   "source": [
    "# alternate elements \n",
    "\n",
    "print(l[0::2])"
   ]
  },
  {
   "cell_type": "code",
   "execution_count": 29,
   "id": "5c1f006a",
   "metadata": {},
   "outputs": [
    {
     "name": "stdout",
     "output_type": "stream",
     "text": [
      "[50, 40, 30, 25, 45, 20, 10]\n"
     ]
    }
   ],
   "source": [
    "# reverse of a list\n",
    "print(l[::-1])"
   ]
  },
  {
   "cell_type": "code",
   "execution_count": 35,
   "id": "80b92c0b",
   "metadata": {},
   "outputs": [
    {
     "data": {
      "text/plain": [
       "[10, 20, 45, 25, 30, 40, 50]"
      ]
     },
     "execution_count": 35,
     "metadata": {},
     "output_type": "execute_result"
    }
   ],
   "source": [
    "l"
   ]
  },
  {
   "cell_type": "code",
   "execution_count": 36,
   "id": "45a5131a",
   "metadata": {},
   "outputs": [
    {
     "data": {
      "text/plain": [
       "[10, 23, 45, 25, 30, 40, 50]"
      ]
     },
     "execution_count": 36,
     "metadata": {},
     "output_type": "execute_result"
    }
   ],
   "source": [
    "# list is mutable\n",
    "\n",
    "l[1]=23\n",
    "l"
   ]
  },
  {
   "cell_type": "code",
   "execution_count": 31,
   "id": "b546395d",
   "metadata": {},
   "outputs": [
    {
     "name": "stdout",
     "output_type": "stream",
     "text": [
      "['__add__', '__class__', '__class_getitem__', '__contains__', '__delattr__', '__delitem__', '__dir__', '__doc__', '__eq__', '__format__', '__ge__', '__getattribute__', '__getitem__', '__gt__', '__hash__', '__iadd__', '__imul__', '__init__', '__init_subclass__', '__iter__', '__le__', '__len__', '__lt__', '__mul__', '__ne__', '__new__', '__reduce__', '__reduce_ex__', '__repr__', '__reversed__', '__rmul__', '__setattr__', '__setitem__', '__sizeof__', '__str__', '__subclasshook__', 'append', 'clear', 'copy', 'count', 'extend', 'index', 'insert', 'pop', 'remove', 'reverse', 'sort']\n"
     ]
    }
   ],
   "source": [
    "print(dir(l))"
   ]
  },
  {
   "cell_type": "markdown",
   "id": "176eafd9",
   "metadata": {},
   "source": [
    "### tuple\n",
    "\n",
    "* Tuple is a collection of items\n",
    "* tuple is created by using parenthesis\n",
    "* tuple is immutable "
   ]
  },
  {
   "cell_type": "code",
   "execution_count": 32,
   "id": "8586eef8",
   "metadata": {},
   "outputs": [
    {
     "data": {
      "text/plain": [
       "(90, 87.7, 'python')"
      ]
     },
     "execution_count": 32,
     "metadata": {},
     "output_type": "execute_result"
    }
   ],
   "source": [
    "t=(90,87.7,\"python\")\n",
    "t"
   ]
  },
  {
   "cell_type": "code",
   "execution_count": 34,
   "id": "9bab1b3a",
   "metadata": {},
   "outputs": [
    {
     "name": "stdout",
     "output_type": "stream",
     "text": [
      "(78, 90, 87, 67)\n"
     ]
    }
   ],
   "source": [
    "t=(78,90,87,67)\n",
    "print(t)"
   ]
  },
  {
   "cell_type": "code",
   "execution_count": 41,
   "id": "bd7f05bc",
   "metadata": {
    "collapsed": true
   },
   "outputs": [
    {
     "name": "stdout",
     "output_type": "stream",
     "text": [
      "90\n",
      "67\n",
      "4\n"
     ]
    }
   ],
   "source": [
    "print(max(t))\n",
    "print(min(t))\n",
    "print(len(t))"
   ]
  },
  {
   "cell_type": "code",
   "execution_count": 39,
   "id": "bc1f0de7",
   "metadata": {
    "collapsed": true
   },
   "outputs": [
    {
     "ename": "TypeError",
     "evalue": "'tuple' object does not support item assignment",
     "output_type": "error",
     "traceback": [
      "\u001b[1;31m---------------------------------------------------------------------------\u001b[0m",
      "\u001b[1;31mTypeError\u001b[0m                                 Traceback (most recent call last)",
      "\u001b[1;32m~\\AppData\\Local\\Temp\\ipykernel_9968\\2935549770.py\u001b[0m in \u001b[0;36m<module>\u001b[1;34m\u001b[0m\n\u001b[0;32m      1\u001b[0m \u001b[1;31m# tuple is immutable\u001b[0m\u001b[1;33m\u001b[0m\u001b[1;33m\u001b[0m\u001b[0m\n\u001b[0;32m      2\u001b[0m \u001b[1;33m\u001b[0m\u001b[0m\n\u001b[1;32m----> 3\u001b[1;33m \u001b[0mt\u001b[0m\u001b[1;33m[\u001b[0m\u001b[1;36m0\u001b[0m\u001b[1;33m]\u001b[0m\u001b[1;33m=\u001b[0m\u001b[1;36m75\u001b[0m\u001b[1;33m\u001b[0m\u001b[1;33m\u001b[0m\u001b[0m\n\u001b[0m\u001b[0;32m      4\u001b[0m \u001b[0mprint\u001b[0m\u001b[1;33m(\u001b[0m\u001b[0mt\u001b[0m\u001b[1;33m)\u001b[0m\u001b[1;33m\u001b[0m\u001b[1;33m\u001b[0m\u001b[0m\n",
      "\u001b[1;31mTypeError\u001b[0m: 'tuple' object does not support item assignment"
     ]
    }
   ],
   "source": [
    "# tuple is immutable\n",
    "\n",
    "t[0]=75\n",
    "print(t)"
   ]
  },
  {
   "cell_type": "code",
   "execution_count": 42,
   "id": "fe14970a",
   "metadata": {
    "collapsed": true
   },
   "outputs": [
    {
     "name": "stdout",
     "output_type": "stream",
     "text": [
      "['__add__', '__class__', '__class_getitem__', '__contains__', '__delattr__', '__dir__', '__doc__', '__eq__', '__format__', '__ge__', '__getattribute__', '__getitem__', '__getnewargs__', '__gt__', '__hash__', '__init__', '__init_subclass__', '__iter__', '__le__', '__len__', '__lt__', '__mul__', '__ne__', '__new__', '__reduce__', '__reduce_ex__', '__repr__', '__rmul__', '__setattr__', '__sizeof__', '__str__', '__subclasshook__', 'count', 'index']\n"
     ]
    }
   ],
   "source": [
    "print(dir(t))"
   ]
  },
  {
   "cell_type": "code",
   "execution_count": 43,
   "id": "ad70ef55",
   "metadata": {},
   "outputs": [
    {
     "data": {
      "text/plain": [
       "(78, 90, 87, 67)"
      ]
     },
     "execution_count": 43,
     "metadata": {},
     "output_type": "execute_result"
    }
   ],
   "source": [
    "t"
   ]
  },
  {
   "cell_type": "code",
   "execution_count": 44,
   "id": "d679eb41",
   "metadata": {},
   "outputs": [
    {
     "data": {
      "text/plain": [
       "2"
      ]
     },
     "execution_count": 44,
     "metadata": {},
     "output_type": "execute_result"
    }
   ],
   "source": [
    "t.index(87)  # index of a particular element"
   ]
  },
  {
   "cell_type": "code",
   "execution_count": 46,
   "id": "08c2c5ba",
   "metadata": {},
   "outputs": [
    {
     "data": {
      "text/plain": [
       "3"
      ]
     },
     "execution_count": 46,
     "metadata": {},
     "output_type": "execute_result"
    }
   ],
   "source": [
    "t1=(10,90,89,76,10,10)\n",
    "t1.count(10)   # count of a particular element inside a tuple"
   ]
  },
  {
   "cell_type": "markdown",
   "id": "58963fcf",
   "metadata": {},
   "source": [
    "### dictionary\n",
    "\n",
    "* Dictionary is a collection of key and value pair\n",
    "* Dictionary is created by using {}\n",
    "* In dictionary key acts as a index to access values "
   ]
  },
  {
   "cell_type": "code",
   "execution_count": 47,
   "id": "ddb0e479",
   "metadata": {},
   "outputs": [],
   "source": [
    "# creating a dictionary\n",
    "\n",
    "# d={key:value,key1:value1,key2:value2}\n",
    "\n",
    "d={\"navya\":98,\"sravya\":87,\"kavya\":85}\n"
   ]
  },
  {
   "cell_type": "code",
   "execution_count": 48,
   "id": "bde5e858",
   "metadata": {},
   "outputs": [
    {
     "data": {
      "text/plain": [
       "dict_keys(['navya', 'sravya', 'kavya'])"
      ]
     },
     "execution_count": 48,
     "metadata": {},
     "output_type": "execute_result"
    }
   ],
   "source": [
    "d.keys()   # to get keys from the dictionary"
   ]
  },
  {
   "cell_type": "code",
   "execution_count": 50,
   "id": "04ef24a0",
   "metadata": {},
   "outputs": [
    {
     "data": {
      "text/plain": [
       "dict_values([98, 87, 85])"
      ]
     },
     "execution_count": 50,
     "metadata": {},
     "output_type": "execute_result"
    }
   ],
   "source": [
    "d.values()   # to get values from the dictionary"
   ]
  },
  {
   "cell_type": "code",
   "execution_count": 51,
   "id": "a2df1524",
   "metadata": {},
   "outputs": [
    {
     "data": {
      "text/plain": [
       "dict_items([('navya', 98), ('sravya', 87), ('kavya', 85)])"
      ]
     },
     "execution_count": 51,
     "metadata": {},
     "output_type": "execute_result"
    }
   ],
   "source": [
    "d.items()  # to get key and value pair i.e item"
   ]
  },
  {
   "cell_type": "code",
   "execution_count": 52,
   "id": "dee1817e",
   "metadata": {},
   "outputs": [
    {
     "data": {
      "text/plain": [
       "dict_keys([1, 2, 3, 4])"
      ]
     },
     "execution_count": 52,
     "metadata": {},
     "output_type": "execute_result"
    }
   ],
   "source": [
    "d1={1:10,2:20,3:30,4:40}\n",
    "\n",
    "d1.keys()"
   ]
  },
  {
   "cell_type": "code",
   "execution_count": 53,
   "id": "73773fe0",
   "metadata": {},
   "outputs": [
    {
     "data": {
      "text/plain": [
       "dict_values([10, 20, 30, 40])"
      ]
     },
     "execution_count": 53,
     "metadata": {},
     "output_type": "execute_result"
    }
   ],
   "source": [
    "d1.values()"
   ]
  },
  {
   "cell_type": "code",
   "execution_count": 55,
   "id": "15c71807",
   "metadata": {},
   "outputs": [
    {
     "data": {
      "text/plain": [
       "4"
      ]
     },
     "execution_count": 55,
     "metadata": {},
     "output_type": "execute_result"
    }
   ],
   "source": [
    "# length of a dictionary\n",
    "\n",
    "len(d1)"
   ]
  },
  {
   "cell_type": "code",
   "execution_count": 56,
   "id": "695b4a81",
   "metadata": {},
   "outputs": [
    {
     "data": {
      "text/plain": [
       "{1: 10, 2: 20, 3: 30, 4: 40}"
      ]
     },
     "execution_count": 56,
     "metadata": {},
     "output_type": "execute_result"
    }
   ],
   "source": [
    "d1"
   ]
  },
  {
   "cell_type": "code",
   "execution_count": 58,
   "id": "6e4d0bbe",
   "metadata": {},
   "outputs": [
    {
     "data": {
      "text/plain": [
       "20"
      ]
     },
     "execution_count": 58,
     "metadata": {},
     "output_type": "execute_result"
    }
   ],
   "source": [
    "# accessing dictionary values\n",
    "d1[2]   # d[key]"
   ]
  },
  {
   "cell_type": "code",
   "execution_count": 59,
   "id": "6d45f89f",
   "metadata": {},
   "outputs": [
    {
     "data": {
      "text/plain": [
       "30"
      ]
     },
     "execution_count": 59,
     "metadata": {},
     "output_type": "execute_result"
    }
   ],
   "source": [
    "d1[3]"
   ]
  },
  {
   "cell_type": "code",
   "execution_count": 60,
   "id": "2310ecf5",
   "metadata": {},
   "outputs": [
    {
     "data": {
      "text/plain": [
       "{'navya': 98, 'sravya': 87, 'kavya': 85}"
      ]
     },
     "execution_count": 60,
     "metadata": {},
     "output_type": "execute_result"
    }
   ],
   "source": [
    "d"
   ]
  },
  {
   "cell_type": "code",
   "execution_count": 62,
   "id": "1310415e",
   "metadata": {},
   "outputs": [
    {
     "data": {
      "text/plain": [
       "85"
      ]
     },
     "execution_count": 62,
     "metadata": {},
     "output_type": "execute_result"
    }
   ],
   "source": [
    "d['kavya']"
   ]
  },
  {
   "cell_type": "code",
   "execution_count": 68,
   "id": "227900c2",
   "metadata": {
    "collapsed": true
   },
   "outputs": [
    {
     "name": "stdout",
     "output_type": "stream",
     "text": [
      "navya : 98\n",
      "sravya : 87\n",
      "kavya : 99\n",
      "satya : 90\n"
     ]
    }
   ],
   "source": [
    "d={'navya': 98, 'sravya': 87, 'kavya': 99,'satya':90}\n",
    "\n",
    "for k,v in d.items():\n",
    "    print(k,':',v)"
   ]
  },
  {
   "cell_type": "code",
   "execution_count": 70,
   "id": "ec0e035e",
   "metadata": {
    "collapsed": true
   },
   "outputs": [
    {
     "name": "stdout",
     "output_type": "stream",
     "text": [
      "navya\n",
      "sravya\n",
      "kavya\n",
      "satya\n"
     ]
    }
   ],
   "source": [
    "for k in d.keys():\n",
    "    print(k)"
   ]
  },
  {
   "cell_type": "code",
   "execution_count": 71,
   "id": "ef46c7da",
   "metadata": {
    "collapsed": true
   },
   "outputs": [
    {
     "name": "stdout",
     "output_type": "stream",
     "text": [
      "98\n",
      "87\n",
      "99\n",
      "90\n"
     ]
    }
   ],
   "source": [
    "for v in d.values():\n",
    "    print(v)"
   ]
  },
  {
   "cell_type": "code",
   "execution_count": 74,
   "id": "8cae201e",
   "metadata": {},
   "outputs": [
    {
     "name": "stdout",
     "output_type": "stream",
     "text": [
      "kavya\n"
     ]
    }
   ],
   "source": [
    "# print the student name who is having maximum marks\n",
    "\n",
    "d={'navya': 98, 'sravya': 87, 'kavya': 99,'satya':90}\n",
    "\n",
    "#  kavya\n",
    "\n",
    "maxv=max(d.values())\n",
    "for k,v in d.items():\n",
    "    if v==maxv:\n",
    "        print(k)    "
   ]
  },
  {
   "cell_type": "code",
   "execution_count": 75,
   "id": "33b1f494",
   "metadata": {},
   "outputs": [
    {
     "name": "stdout",
     "output_type": "stream",
     "text": [
      "['__class__', '__class_getitem__', '__contains__', '__delattr__', '__delitem__', '__dir__', '__doc__', '__eq__', '__format__', '__ge__', '__getattribute__', '__getitem__', '__gt__', '__hash__', '__init__', '__init_subclass__', '__ior__', '__iter__', '__le__', '__len__', '__lt__', '__ne__', '__new__', '__or__', '__reduce__', '__reduce_ex__', '__repr__', '__reversed__', '__ror__', '__setattr__', '__setitem__', '__sizeof__', '__str__', '__subclasshook__', 'clear', 'copy', 'fromkeys', 'get', 'items', 'keys', 'pop', 'popitem', 'setdefault', 'update', 'values']\n"
     ]
    }
   ],
   "source": [
    "print(dir(d))"
   ]
  },
  {
   "cell_type": "markdown",
   "id": "a795366d",
   "metadata": {},
   "source": [
    "### sets\n",
    "\n",
    "* Set is a unordered and unindexed collection of items\n",
    "    * unordered: we are not sure in which order the items will appear\n",
    "    * unindexed: we can't access set items by using index\n",
    "    \n",
    "* set does not allows duplicate values"
   ]
  },
  {
   "cell_type": "code",
   "execution_count": 78,
   "id": "c6378c45",
   "metadata": {},
   "outputs": [
    {
     "name": "stdout",
     "output_type": "stream",
     "text": [
      "{8, 10, 'one', 90}\n",
      "<class 'set'>\n"
     ]
    }
   ],
   "source": [
    "# creating set\n",
    "\n",
    "s={10,90,8,'one'}\n",
    "print(s)\n",
    "print(type(s))"
   ]
  },
  {
   "cell_type": "code",
   "execution_count": 89,
   "id": "fd44b3ec",
   "metadata": {},
   "outputs": [
    {
     "data": {
      "text/plain": [
       "{12, 34, 56, 67, 87, 90}"
      ]
     },
     "execution_count": 89,
     "metadata": {},
     "output_type": "execute_result"
    }
   ],
   "source": [
    "s={90,87,12,34,12,56,67}\n",
    "s"
   ]
  },
  {
   "cell_type": "code",
   "execution_count": 90,
   "id": "e5fa6e9a",
   "metadata": {
    "collapsed": true
   },
   "outputs": [
    {
     "ename": "TypeError",
     "evalue": "'set' object is not subscriptable",
     "output_type": "error",
     "traceback": [
      "\u001b[1;31m---------------------------------------------------------------------------\u001b[0m",
      "\u001b[1;31mTypeError\u001b[0m                                 Traceback (most recent call last)",
      "\u001b[1;32m~\\AppData\\Local\\Temp\\ipykernel_9968\\2556599544.py\u001b[0m in \u001b[0;36m<module>\u001b[1;34m\u001b[0m\n\u001b[1;32m----> 1\u001b[1;33m \u001b[0ms\u001b[0m\u001b[1;33m[\u001b[0m\u001b[1;36m0\u001b[0m\u001b[1;33m]\u001b[0m \u001b[1;31m# unindexed\u001b[0m\u001b[1;33m\u001b[0m\u001b[1;33m\u001b[0m\u001b[0m\n\u001b[0m",
      "\u001b[1;31mTypeError\u001b[0m: 'set' object is not subscriptable"
     ]
    }
   ],
   "source": [
    "s[0] # unindexed"
   ]
  },
  {
   "cell_type": "code",
   "execution_count": 91,
   "id": "4306ef75",
   "metadata": {
    "collapsed": true
   },
   "outputs": [
    {
     "name": "stdout",
     "output_type": "stream",
     "text": [
      "['__and__', '__class__', '__class_getitem__', '__contains__', '__delattr__', '__dir__', '__doc__', '__eq__', '__format__', '__ge__', '__getattribute__', '__gt__', '__hash__', '__iand__', '__init__', '__init_subclass__', '__ior__', '__isub__', '__iter__', '__ixor__', '__le__', '__len__', '__lt__', '__ne__', '__new__', '__or__', '__rand__', '__reduce__', '__reduce_ex__', '__repr__', '__ror__', '__rsub__', '__rxor__', '__setattr__', '__sizeof__', '__str__', '__sub__', '__subclasshook__', '__xor__', 'add', 'clear', 'copy', 'difference', 'difference_update', 'discard', 'intersection', 'intersection_update', 'isdisjoint', 'issubset', 'issuperset', 'pop', 'remove', 'symmetric_difference', 'symmetric_difference_update', 'union', 'update']\n"
     ]
    }
   ],
   "source": [
    "print(dir(s))"
   ]
  },
  {
   "cell_type": "code",
   "execution_count": 92,
   "id": "d5b634c9",
   "metadata": {},
   "outputs": [
    {
     "data": {
      "text/plain": [
       "{12, 34, 56, 67, 87, 90}"
      ]
     },
     "execution_count": 92,
     "metadata": {},
     "output_type": "execute_result"
    }
   ],
   "source": [
    "s"
   ]
  },
  {
   "cell_type": "code",
   "execution_count": 93,
   "id": "998f78e1",
   "metadata": {},
   "outputs": [],
   "source": [
    "s.add(100)  "
   ]
  },
  {
   "cell_type": "code",
   "execution_count": 94,
   "id": "5ce3839c",
   "metadata": {},
   "outputs": [
    {
     "data": {
      "text/plain": [
       "{12, 34, 56, 67, 87, 90, 100}"
      ]
     },
     "execution_count": 94,
     "metadata": {},
     "output_type": "execute_result"
    }
   ],
   "source": [
    "s"
   ]
  },
  {
   "cell_type": "code",
   "execution_count": 95,
   "id": "23dc8c1a",
   "metadata": {},
   "outputs": [
    {
     "data": {
      "text/plain": [
       "{12, 34, 56, 67, 87, 90, 100, 101, 102}"
      ]
     },
     "execution_count": 95,
     "metadata": {},
     "output_type": "execute_result"
    }
   ],
   "source": [
    "s.update({101,102})  \n",
    "s"
   ]
  },
  {
   "cell_type": "code",
   "execution_count": 96,
   "id": "6462f9f8",
   "metadata": {},
   "outputs": [
    {
     "data": {
      "text/plain": [
       "{12, 34, 56, 67, 87, 90, 100, 101}"
      ]
     },
     "execution_count": 96,
     "metadata": {},
     "output_type": "execute_result"
    }
   ],
   "source": [
    "s.remove(102)\n",
    "s"
   ]
  },
  {
   "cell_type": "code",
   "execution_count": 97,
   "id": "c380ee3d",
   "metadata": {},
   "outputs": [
    {
     "data": {
      "text/plain": [
       "34"
      ]
     },
     "execution_count": 97,
     "metadata": {},
     "output_type": "execute_result"
    }
   ],
   "source": [
    "s.pop()"
   ]
  },
  {
   "cell_type": "code",
   "execution_count": 98,
   "id": "f59c7e7d",
   "metadata": {},
   "outputs": [
    {
     "data": {
      "text/plain": [
       "{12, 56, 67, 87, 90, 100, 101}"
      ]
     },
     "execution_count": 98,
     "metadata": {},
     "output_type": "execute_result"
    }
   ],
   "source": [
    "s"
   ]
  },
  {
   "cell_type": "code",
   "execution_count": 99,
   "id": "6ef3d2c9",
   "metadata": {},
   "outputs": [
    {
     "data": {
      "text/plain": [
       "{1, 2, 3, 4, 5}"
      ]
     },
     "execution_count": 99,
     "metadata": {},
     "output_type": "execute_result"
    }
   ],
   "source": [
    "s1={1,2,3}\n",
    "s2={3,4,5}\n",
    "s1.union(s2)"
   ]
  },
  {
   "cell_type": "code",
   "execution_count": 100,
   "id": "b6172fff",
   "metadata": {},
   "outputs": [
    {
     "data": {
      "text/plain": [
       "{3}"
      ]
     },
     "execution_count": 100,
     "metadata": {},
     "output_type": "execute_result"
    }
   ],
   "source": [
    "s1.intersection(s2)  # common value"
   ]
  },
  {
   "cell_type": "markdown",
   "id": "53c33f80",
   "metadata": {},
   "source": [
    "### Strings\n",
    "\n",
    "* String is a group of characters\n",
    "* strings are enclosed with either single quotes or double quotes"
   ]
  },
  {
   "cell_type": "code",
   "execution_count": 2,
   "id": "6e1a2386",
   "metadata": {},
   "outputs": [],
   "source": [
    "name=\"harshini\""
   ]
  },
  {
   "cell_type": "code",
   "execution_count": 3,
   "id": "bfa80ab3",
   "metadata": {
    "collapsed": true
   },
   "outputs": [
    {
     "name": "stdout",
     "output_type": "stream",
     "text": [
      "harshini\n",
      "<class 'str'>\n"
     ]
    }
   ],
   "source": [
    "print(name)\n",
    "print(type(name))"
   ]
  },
  {
   "cell_type": "code",
   "execution_count": 6,
   "id": "0f264f27",
   "metadata": {
    "collapsed": true
   },
   "outputs": [
    {
     "name": "stdout",
     "output_type": "stream",
     "text": [
      "s\n",
      "a\n",
      "8\n"
     ]
    }
   ],
   "source": [
    "print(max(name))\n",
    "print(min(name))\n",
    "print(len(name))  # length of a string"
   ]
  },
  {
   "cell_type": "code",
   "execution_count": 9,
   "id": "e7619dd5",
   "metadata": {},
   "outputs": [
    {
     "name": "stdout",
     "output_type": "stream",
     "text": [
      "h\n",
      "a\n",
      "i\n"
     ]
    }
   ],
   "source": [
    "## accessing string characters\n",
    "+\n",
    "\n",
    "print(name[0])\n",
    "print(name[1])\n",
    "print(name[-1])  # last character"
   ]
  },
  {
   "cell_type": "code",
   "execution_count": 10,
   "id": "ca0cf15e",
   "metadata": {},
   "outputs": [
    {
     "name": "stdout",
     "output_type": "stream",
     "text": [
      "hrhn\n"
     ]
    }
   ],
   "source": [
    "# slicing\n",
    "\n",
    "# harshini\n",
    "# hrhn\n",
    "print(name[0::2])"
   ]
  },
  {
   "cell_type": "code",
   "execution_count": 12,
   "id": "a9b53e96",
   "metadata": {},
   "outputs": [
    {
     "name": "stdout",
     "output_type": "stream",
     "text": [
      "['__add__', '__class__', '__contains__', '__delattr__', '__dir__', '__doc__', '__eq__', '__format__', '__ge__', '__getattribute__', '__getitem__', '__getnewargs__', '__gt__', '__hash__', '__init__', '__init_subclass__', '__iter__', '__le__', '__len__', '__lt__', '__mod__', '__mul__', '__ne__', '__new__', '__reduce__', '__reduce_ex__', '__repr__', '__rmod__', '__rmul__', '__setattr__', '__sizeof__', '__str__', '__subclasshook__', 'capitalize', 'casefold', 'center', 'count', 'encode', 'endswith', 'expandtabs', 'find', 'format', 'format_map', 'index', 'isalnum', 'isalpha', 'isascii', 'isdecimal', 'isdigit', 'isidentifier', 'islower', 'isnumeric', 'isprintable', 'isspace', 'istitle', 'isupper', 'join', 'ljust', 'lower', 'lstrip', 'maketrans', 'partition', 'removeprefix', 'removesuffix', 'replace', 'rfind', 'rindex', 'rjust', 'rpartition', 'rsplit', 'rstrip', 'split', 'splitlines', 'startswith', 'strip', 'swapcase', 'title', 'translate', 'upper', 'zfill'] "
     ]
    }
   ],
   "source": [
    "# string methods\n",
    "s=\"hello\"\n",
    "print(dir(s),end=\" \")"
   ]
  },
  {
   "cell_type": "code",
   "execution_count": 13,
   "id": "692a8385",
   "metadata": {},
   "outputs": [
    {
     "data": {
      "text/plain": [
       "'Hello world'"
      ]
     },
     "execution_count": 13,
     "metadata": {},
     "output_type": "execute_result"
    }
   ],
   "source": [
    "s=\"hello world\"\n",
    "s.capitalize()"
   ]
  },
  {
   "cell_type": "code",
   "execution_count": 14,
   "id": "2ff9927d",
   "metadata": {},
   "outputs": [
    {
     "data": {
      "text/plain": [
       "'Hello World'"
      ]
     },
     "execution_count": 14,
     "metadata": {},
     "output_type": "execute_result"
    }
   ],
   "source": [
    "s.title()"
   ]
  },
  {
   "cell_type": "code",
   "execution_count": 15,
   "id": "ee98f2f9",
   "metadata": {},
   "outputs": [
    {
     "data": {
      "text/plain": [
       "'HELLO WORLD'"
      ]
     },
     "execution_count": 15,
     "metadata": {},
     "output_type": "execute_result"
    }
   ],
   "source": [
    "s.swapcase() "
   ]
  },
  {
   "cell_type": "code",
   "execution_count": 16,
   "id": "80262542",
   "metadata": {},
   "outputs": [
    {
     "data": {
      "text/plain": [
       "'hello'"
      ]
     },
     "execution_count": 16,
     "metadata": {},
     "output_type": "execute_result"
    }
   ],
   "source": [
    "s1=\"HELLO\"\n",
    "s1.swapcase()"
   ]
  },
  {
   "cell_type": "code",
   "execution_count": 19,
   "id": "332b90ba",
   "metadata": {},
   "outputs": [
    {
     "data": {
      "text/plain": [
       "'pYtHON'"
      ]
     },
     "execution_count": 19,
     "metadata": {},
     "output_type": "execute_result"
    }
   ],
   "source": [
    "\"PyThon\".swapcase()"
   ]
  },
  {
   "cell_type": "code",
   "execution_count": 21,
   "id": "66ad1802",
   "metadata": {},
   "outputs": [
    {
     "data": {
      "text/plain": [
       "'python'"
      ]
     },
     "execution_count": 21,
     "metadata": {},
     "output_type": "execute_result"
    }
   ],
   "source": [
    "\"PyThon\".lower()  # used to convert string into lower case"
   ]
  },
  {
   "cell_type": "code",
   "execution_count": 22,
   "id": "3d84042e",
   "metadata": {},
   "outputs": [
    {
     "data": {
      "text/plain": [
       "'HELLO'"
      ]
     },
     "execution_count": 22,
     "metadata": {},
     "output_type": "execute_result"
    }
   ],
   "source": [
    "\"hello\".upper()  # used to convert sting into uppercase"
   ]
  },
  {
   "cell_type": "code",
   "execution_count": 23,
   "id": "fd211ba1",
   "metadata": {},
   "outputs": [
    {
     "data": {
      "text/plain": [
       "['python', 'program']"
      ]
     },
     "execution_count": 23,
     "metadata": {},
     "output_type": "execute_result"
    }
   ],
   "source": [
    "st=\"python program\"\n",
    "st.split()   # bydefault it splits by using space"
   ]
  },
  {
   "cell_type": "code",
   "execution_count": 24,
   "id": "297b3dca",
   "metadata": {},
   "outputs": [
    {
     "data": {
      "text/plain": [
       "['j', 'v', 'Cour$elearning']"
      ]
     },
     "execution_count": 24,
     "metadata": {},
     "output_type": "execute_result"
    }
   ],
   "source": [
    "st1=\"j@v@Cour$elearning\"\n",
    "st1.split('@')"
   ]
  },
  {
   "cell_type": "code",
   "execution_count": 25,
   "id": "382979e9",
   "metadata": {},
   "outputs": [
    {
     "data": {
      "text/plain": [
       "['j@v@Cour', 'elearning']"
      ]
     },
     "execution_count": 25,
     "metadata": {},
     "output_type": "execute_result"
    }
   ],
   "source": [
    "st1=\"j@v@Cour$elearning\"\n",
    "st1.split('$')"
   ]
  },
  {
   "cell_type": "code",
   "execution_count": 26,
   "id": "034f0f8a",
   "metadata": {},
   "outputs": [
    {
     "data": {
      "text/plain": [
       "'python '"
      ]
     },
     "execution_count": 26,
     "metadata": {},
     "output_type": "execute_result"
    }
   ],
   "source": [
    "s=\" python \"\n",
    "s.lstrip()  # to remove leftside space"
   ]
  },
  {
   "cell_type": "code",
   "execution_count": 27,
   "id": "7b600930",
   "metadata": {},
   "outputs": [
    {
     "data": {
      "text/plain": [
       "' python'"
      ]
     },
     "execution_count": 27,
     "metadata": {},
     "output_type": "execute_result"
    }
   ],
   "source": [
    "s.rstrip() # to remove right side space"
   ]
  },
  {
   "cell_type": "code",
   "execution_count": 29,
   "id": "d15d9573",
   "metadata": {},
   "outputs": [
    {
     "data": {
      "text/plain": [
       "'python'"
      ]
     },
     "execution_count": 29,
     "metadata": {},
     "output_type": "execute_result"
    }
   ],
   "source": [
    "s.strip()  # to remove space"
   ]
  },
  {
   "cell_type": "code",
   "execution_count": 31,
   "id": "91c7f529",
   "metadata": {},
   "outputs": [
    {
     "data": {
      "text/plain": [
       "True"
      ]
     },
     "execution_count": 31,
     "metadata": {},
     "output_type": "execute_result"
    }
   ],
   "source": [
    "s=\"ybybh\"\n",
    "s.isalpha()  # returns TRUE if the string contains only alphabets otherwise return false"
   ]
  },
  {
   "cell_type": "code",
   "execution_count": 34,
   "id": "d0de1efc",
   "metadata": {},
   "outputs": [
    {
     "data": {
      "text/plain": [
       "False"
      ]
     },
     "execution_count": 34,
     "metadata": {},
     "output_type": "execute_result"
    }
   ],
   "source": [
    "s1=\"ggjhui7678^\"\n",
    "s1.isalpha()"
   ]
  },
  {
   "cell_type": "code",
   "execution_count": 37,
   "id": "0a7e05ae",
   "metadata": {},
   "outputs": [
    {
     "data": {
      "text/plain": [
       "True"
      ]
     },
     "execution_count": 37,
     "metadata": {},
     "output_type": "execute_result"
    }
   ],
   "source": [
    "s=\"1345\"\n",
    "s.isdigit() # returns TRUE if the string contains only digits otherwise return false"
   ]
  },
  {
   "cell_type": "code",
   "execution_count": 38,
   "id": "34eb47fb",
   "metadata": {},
   "outputs": [
    {
     "data": {
      "text/plain": [
       "False"
      ]
     },
     "execution_count": 38,
     "metadata": {},
     "output_type": "execute_result"
    }
   ],
   "source": [
    "s1=\"6789&**()\"\n",
    "s1.isdigit()"
   ]
  },
  {
   "cell_type": "code",
   "execution_count": 39,
   "id": "0004bda0",
   "metadata": {},
   "outputs": [
    {
     "data": {
      "text/plain": [
       "True"
      ]
     },
     "execution_count": 39,
     "metadata": {},
     "output_type": "execute_result"
    }
   ],
   "source": [
    "s=\"python60\"\n",
    "s.isalnum() # returns TRUE if the string contains both alpha and numeric otherwise return false"
   ]
  },
  {
   "cell_type": "code",
   "execution_count": 40,
   "id": "faf9df6f",
   "metadata": {},
   "outputs": [
    {
     "data": {
      "text/plain": [
       "False"
      ]
     },
     "execution_count": 40,
     "metadata": {},
     "output_type": "execute_result"
    }
   ],
   "source": [
    "s1=\"python@46\"\n",
    "s1.isalnum()"
   ]
  },
  {
   "cell_type": "code",
   "execution_count": 48,
   "id": "4a00611f",
   "metadata": {},
   "outputs": [
    {
     "data": {
      "text/plain": [
       "True"
      ]
     },
     "execution_count": 48,
     "metadata": {},
     "output_type": "execute_result"
    }
   ],
   "source": [
    "s=\"python\"\n",
    "s.islower() # returns TRUE if the string contains lowercase letters otherwise returns false"
   ]
  },
  {
   "cell_type": "code",
   "execution_count": 49,
   "id": "7d4622ee",
   "metadata": {},
   "outputs": [
    {
     "data": {
      "text/plain": [
       "False"
      ]
     },
     "execution_count": 49,
     "metadata": {},
     "output_type": "execute_result"
    }
   ],
   "source": [
    "\"Python\".islower()"
   ]
  },
  {
   "cell_type": "code",
   "execution_count": 50,
   "id": "9d32d4a5",
   "metadata": {},
   "outputs": [
    {
     "data": {
      "text/plain": [
       "True"
      ]
     },
     "execution_count": 50,
     "metadata": {},
     "output_type": "execute_result"
    }
   ],
   "source": [
    "s1=\"JAVA\"\n",
    "s1.isupper() # returns True if the string contains uppercase letters otherwise returns false"
   ]
  },
  {
   "cell_type": "code",
   "execution_count": 47,
   "id": "5e4c8320",
   "metadata": {},
   "outputs": [
    {
     "data": {
      "text/plain": [
       "False"
      ]
     },
     "execution_count": 47,
     "metadata": {},
     "output_type": "execute_result"
    }
   ],
   "source": [
    "\"hii\".isupper()"
   ]
  },
  {
   "cell_type": "code",
   "execution_count": 52,
   "id": "b674721d",
   "metadata": {},
   "outputs": [
    {
     "data": {
      "text/plain": [
       "8"
      ]
     },
     "execution_count": 52,
     "metadata": {},
     "output_type": "execute_result"
    }
   ],
   "source": [
    "s=\"Hello world\"\n",
    "s.index('r')  # to get index of a particular character"
   ]
  },
  {
   "cell_type": "code",
   "execution_count": 53,
   "id": "f6c570b7",
   "metadata": {},
   "outputs": [
    {
     "data": {
      "text/plain": [
       "10"
      ]
     },
     "execution_count": 53,
     "metadata": {},
     "output_type": "execute_result"
    }
   ],
   "source": [
    "s.index('d')"
   ]
  },
  {
   "cell_type": "code",
   "execution_count": 54,
   "id": "99ab8914",
   "metadata": {},
   "outputs": [
    {
     "data": {
      "text/plain": [
       "2"
      ]
     },
     "execution_count": 54,
     "metadata": {},
     "output_type": "execute_result"
    }
   ],
   "source": [
    "# count of a substring\n",
    "s=\"python programming python\"\n",
    "s.count('python')"
   ]
  },
  {
   "cell_type": "markdown",
   "id": "786a7701",
   "metadata": {},
   "source": [
    "### File handling\n",
    "\n",
    "* File is a collection of records\n",
    "* Python file handling: create, open, append, Read, Write, close\n",
    "* creating a new file\n",
    "* write the data into a file\n",
    "* Read data from a file\n",
    "* Append data to a file\n",
    "* Closing a file"
   ]
  },
  {
   "cell_type": "markdown",
   "id": "4bb366b5",
   "metadata": {},
   "source": [
    "### mode of operations\n",
    "\n",
    "* 'r'- Read mode\n",
    "* 'w' - write mode (overwrites the files data)\n",
    "* 'a' - Append mode\n",
    "* 'r+' - Read and write mode"
   ]
  },
  {
   "cell_type": "markdown",
   "id": "b01aa872",
   "metadata": {},
   "source": [
    "### In Build functions:\n",
    "* open : open(path,mode)\n",
    "* Close : file_name.close()"
   ]
  },
  {
   "cell_type": "code",
   "execution_count": 56,
   "id": "e6240905",
   "metadata": {},
   "outputs": [],
   "source": [
    "# creating a file and writing data to a file\n",
    "\n",
    "f=open(\"sample.txt\",'w')\n",
    "f.write(\"This is my first file\")\n",
    "f.close()"
   ]
  },
  {
   "cell_type": "code",
   "execution_count": 57,
   "id": "f51968fc",
   "metadata": {},
   "outputs": [],
   "source": [
    "# write\n",
    "\n",
    "f=open('sample.txt','w')\n",
    "f.write(\"python programming\")\n",
    "f.close()"
   ]
  },
  {
   "cell_type": "code",
   "execution_count": 58,
   "id": "7464e620",
   "metadata": {},
   "outputs": [
    {
     "name": "stdout",
     "output_type": "stream",
     "text": [
      "python programming\n"
     ]
    }
   ],
   "source": [
    "# Read data from a file\n",
    "\n",
    "f=open(\"sample.txt\",'r')\n",
    "data=f.read()\n",
    "print(data)\n",
    "f.close()"
   ]
  },
  {
   "cell_type": "code",
   "execution_count": 59,
   "id": "cf1a9302",
   "metadata": {},
   "outputs": [],
   "source": [
    "# read() -> reads entire file data\n",
    "# readline() -> return a single line from a file\n",
    "# readlines() -> return all  files lines data in list format"
   ]
  },
  {
   "cell_type": "code",
   "execution_count": 61,
   "id": "f726f0f8",
   "metadata": {},
   "outputs": [
    {
     "name": "stdout",
     "output_type": "stream",
     "text": [
      "['python programming\\n', 'how are you']\n"
     ]
    }
   ],
   "source": [
    "# readlines()\n",
    "\n",
    "f=open(\"sample.txt\",'r')\n",
    "l=f.readlines()\n",
    "print(l)\n",
    "f.close()"
   ]
  },
  {
   "cell_type": "code",
   "execution_count": 62,
   "id": "b8fd6817",
   "metadata": {},
   "outputs": [
    {
     "data": {
      "text/plain": [
       "'python programming\\n'"
      ]
     },
     "execution_count": 62,
     "metadata": {},
     "output_type": "execute_result"
    }
   ],
   "source": [
    "# readline()\n",
    "\n",
    "f=open(\"sample.txt\",'r')\n",
    "f.readline()"
   ]
  },
  {
   "cell_type": "code",
   "execution_count": 66,
   "id": "dad199b3",
   "metadata": {},
   "outputs": [
    {
     "name": "stdout",
     "output_type": "stream",
     "text": [
      "number of words inside a file is:  5\n"
     ]
    }
   ],
   "source": [
    "# write a program to count no of words from a file\n",
    "\n",
    "f=open(\"sample.txt\",'r')\n",
    "data=f.read()\n",
    "words=data.split()\n",
    "n=len(words)\n",
    "print(\"number of words inside a file is: \",n)\n",
    "f.close()"
   ]
  },
  {
   "cell_type": "code",
   "execution_count": 67,
   "id": "a2e850ec",
   "metadata": {},
   "outputs": [],
   "source": [
    "# write a program to print no of characters from a file"
   ]
  },
  {
   "cell_type": "code",
   "execution_count": null,
   "id": "109b7c2b",
   "metadata": {},
   "outputs": [],
   "source": []
  }
 ],
 "metadata": {
  "kernelspec": {
   "display_name": "Python 3 (ipykernel)",
   "language": "python",
   "name": "python3"
  },
  "language_info": {
   "codemirror_mode": {
    "name": "ipython",
    "version": 3
   },
   "file_extension": ".py",
   "mimetype": "text/x-python",
   "name": "python",
   "nbconvert_exporter": "python",
   "pygments_lexer": "ipython3",
   "version": "3.9.13"
  }
 },
 "nbformat": 4,
 "nbformat_minor": 5
}
